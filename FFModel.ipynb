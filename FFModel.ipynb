{
 "metadata": {
  "language_info": {
   "codemirror_mode": {
    "name": "ipython",
    "version": 3
   },
   "file_extension": ".py",
   "mimetype": "text/x-python",
   "name": "python",
   "nbconvert_exporter": "python",
   "pygments_lexer": "ipython3",
   "version": "3.7.0-final"
  },
  "orig_nbformat": 2,
  "kernelspec": {
   "name": "python3",
   "display_name": "Python 3",
   "language": "python"
  }
 },
 "nbformat": 4,
 "nbformat_minor": 2,
 "cells": [
  {
   "cell_type": "code",
   "execution_count": null,
   "metadata": {},
   "outputs": [],
   "source": [
    "from io import BytesIO\r\n",
    "from zipfile import ZipFile\r\n",
    "import urllib.request\r\n",
    "import requests\r\n",
    "import pandas as pd\r\n",
    "import numpy as np\r\n",
    "import re\r\n",
    "import string\r\n",
    "import yfinance as yf\r\n",
    "import seaborn as sns\r\n",
    "import matplotlib.pyplot as plt\r\n",
    "import statsmodels.api as sm\r\n",
    "import pylab as pl"
   ]
  },
  {
   "cell_type": "code",
   "execution_count": null,
   "metadata": {},
   "outputs": [],
   "source": [
    "#Automatically grab the daily data required for the Three Factor Model\n",
    "\n",
    "original_data = []\n",
    "\n",
    "url = urllib.request.urlopen(\"http://mba.tuck.dartmouth.edu/pages/faculty/ken.french/ftp/F-F_Research_Data_Factors_daily_CSV.zip\")\n",
    "\n",
    "with ZipFile(BytesIO(url.read())) as my_zip_file:\n",
    "    for contained_file in my_zip_file.namelist():\n",
    "        for line in my_zip_file.open(contained_file).readlines():\n",
    "            original_data.append(line)"
   ]
  },
  {
   "cell_type": "code",
   "execution_count": null,
   "metadata": {},
   "outputs": [],
   "source": [
    "#Cleaning the raw data\n",
    "\n",
    "modified_data = original_data[4:]\n",
    "\n",
    "for i in range(len(modified_data)):\n",
    "    modified_data[i] = modified_data[i].decode('utf-8')\n",
    "    modified_data[i] = modified_data[i].replace(' ', '')\n",
    "    modified_data[i] = modified_data[i].replace('\\r\\n', '')"
   ]
  },
  {
   "cell_type": "code",
   "execution_count": null,
   "metadata": {},
   "outputs": [],
   "source": [
    "#Cleaning the raw data continued\n",
    "\n",
    "modified_data[0] = 'Date' + modified_data[0]\n",
    "data_for_df = []\n",
    "\n",
    "for i in modified_data:\n",
    "    x = i.split(',')\n",
    "    data_for_df.append(x)"
   ]
  },
  {
   "cell_type": "code",
   "execution_count": null,
   "metadata": {},
   "outputs": [],
   "source": [
    "df = pd.DataFrame(data_for_df[1:], columns=data_for_df[0])"
   ]
  },
  {
   "cell_type": "code",
   "execution_count": null,
   "metadata": {},
   "outputs": [],
   "source": [
    "df.drop(df.tail(2).index, \n",
    "        inplace = True)\n",
    "\n",
    "df['Date'] = pd.to_datetime(df['Date'], format='%Y%m%d')\n",
    "\n",
    "df.set_index('Date', inplace=True)\n",
    "\n",
    "df = df.astype(float)\n",
    "df = df / 100"
   ]
  },
  {
   "cell_type": "code",
   "execution_count": null,
   "metadata": {},
   "outputs": [],
   "source": [
    "tickers = input(\"\"\"What stocks are in your portfolio?\\n\n",
    "                Enter each ticker uppercase and seperated by one space\\n\n",
    "                Ex. AAPL MSFT FB\\n\n",
    "                ---> \"\"\")"
   ]
  },
  {
   "cell_type": "code",
   "execution_count": null,
   "metadata": {},
   "outputs": [],
   "source": [
    "dates = input(\"\"\"Would you like to specify the dates for the Fama-French Calculation?\\n\n",
    "                Format is 'YYYY-MM-DD'\\n\n",
    "                EX. 2018-01-01 2019-01-01\\n\n",
    "                Enter 'N/A' to use defualt data range (last 3 years)\\n\n",
    "                Please note: The stocks in your portfolio need to be trading for the dates included\\n\n",
    "                If a stock in the portfolio you entered wasn't publically traded for the full date range\\n\n",
    "                you provide, the program will not run.\\n\n",
    "                ---> \"\"\")"
   ]
  },
  {
   "cell_type": "code",
   "execution_count": null,
   "metadata": {},
   "outputs": [],
   "source": [
    "dates = dates.split(' ')"
   ]
  },
  {
   "cell_type": "code",
   "execution_count": null,
   "metadata": {},
   "outputs": [],
   "source": [
    "#use YFinance to grab stock price data for given portfolio and date range\n",
    "\n",
    "full_stock_data = yf.download(tickers, start=dates[0], end=dates[1])"
   ]
  },
  {
   "cell_type": "code",
   "execution_count": null,
   "metadata": {},
   "outputs": [],
   "source": [
    "close_stock_data = full_stock_data['Adj Close']\n",
    "\n",
    "close_stock_returns = close_stock_data.pct_change()"
   ]
  },
  {
   "cell_type": "code",
   "execution_count": null,
   "metadata": {},
   "outputs": [],
   "source": [
    "col_names = list(close_stock_data)\n",
    "stock_weights = []"
   ]
  },
  {
   "cell_type": "code",
   "execution_count": null,
   "metadata": {},
   "outputs": [],
   "source": [
    "#Gather weights for reach stock in the portfolio\n",
    "\n",
    "weights_q = input(\"\"\"Is the portfolio equally weighted?\\n\n",
    "                Enter Y/N\\n\n",
    "                ---> \"\"\")\n",
    "if weights_q == 'Y':\n",
    "    x = 1 / stock_returns.shape[1]\n",
    "    for i in range(stock_returns.shape[1]):\n",
    "        stock_weights.append(x)\n",
    "else:\n",
    "    for i in col_names:\n",
    "        weight = float(input(f\"\"\"Enter weight in decimal format:\n",
    "                    {i} ---> \"\"\"))\n",
    "        stock_weights.append(weight)"
   ]
  },
  {
   "cell_type": "code",
   "execution_count": null,
   "metadata": {},
   "outputs": [],
   "source": [
    "#Find weighed average returns needed for the model\n",
    "\n",
    "weighted_close_stock_returns = close_stock_returns * stock_weights"
   ]
  },
  {
   "cell_type": "code",
   "execution_count": null,
   "metadata": {},
   "outputs": [],
   "source": [
    "weighted_close_stock_returns['port_returns'] = weighted_close_stock_returns.sum(axis=1)"
   ]
  },
  {
   "cell_type": "code",
   "execution_count": null,
   "metadata": {},
   "outputs": [],
   "source": [
    "#Merge the weighted portfolio returns with the Fama-French data\n",
    "\n",
    "FF_final_data = pd.merge(df,weighted_close_stock_returns['port_returns'],\n",
    "                        how='inner',\n",
    "                        left_index=True,\n",
    "                        right_index=True)"
   ]
  },
  {
   "cell_type": "code",
   "execution_count": null,
   "metadata": {},
   "outputs": [],
   "source": [
    "FF_final_data['port_excess_ret'] = FF_final_data['port_returns'] - FF_final_data['RF']"
   ]
  },
  {
   "cell_type": "code",
   "execution_count": null,
   "metadata": {},
   "outputs": [],
   "source": [
    "FF_final_data.head(25)"
   ]
  },
  {
   "cell_type": "code",
   "execution_count": null,
   "metadata": {},
   "outputs": [],
   "source": [
    "#CAPM Model Estimation\n",
    "\n",
    "X = FF_final_data['Mkt-RF']\n",
    "Y = FF_final_data['port_excess_ret']\n",
    "X = sm.add_constant(X)\n",
    "CAPM = sm.OLS(Y, X).fit()\n",
    "predictions = CAPM.predict(X) \n",
    "\n",
    "print_model = CAPM.summary()\n",
    "print(print_model)\n",
    "\n",
    "graph = sns.regplot(x=FF_final_data[\"Mkt-RF\"], y=FF_final_data[\"port_excess_ret\"], data=FF_final_data,\n",
    "           scatter_kws={'alpha':0.3}, line_kws={'color':'red', 'alpha':0.7}, truncate=True)\n",
    "graph.set_xticks(pl.frange(round(FF_final_data[\"Mkt-RF\"].min(), 2), round(FF_final_data[\"Mkt-RF\"].max(), 2), 0.01))\n",
    "graph.set_xlabel('Market Risk factor')\n",
    "graph.set_ylabel('Portfolio Excess Returns')\n",
    "graph.set_title('CAPM Regression Graph')"
   ]
  },
  {
   "cell_type": "code",
   "execution_count": null,
   "metadata": {},
   "outputs": [],
   "source": [
    "#Fama-French 3-Factor Model Estimation\n",
    "X_FF = FF_final_data[['Mkt-RF', 'SMB', 'HML']]\n",
    "Y_FF = FF_final_data['port_excess_ret']\n",
    "X_FF = sm.add_constant(X_FF)\n",
    "Fama_French_Model = sm.OLS(Y_FF, X_FF).fit()\n",
    "predictions = Fama_French_Model.predict(X_FF) \n",
    "\n",
    "print_model = Fama_French_Model.summary()\n",
    "print(print_model)\n",
    "\n",
    "graph2 = sns.pairplot(FF_final_data, x_vars=[\"Mkt-RF\", \"SMB\", \"HML\"], y_vars=[\"port_excess_ret\"],\n",
    "             height=5, aspect=.8, kind=\"reg\", plot_kws={'line_kws':{'color':'red', 'alpha':0.7}, 'scatter_kws': {'alpha': 0.1}})"
   ]
  },
  {
   "cell_type": "code",
   "execution_count": null,
   "metadata": {},
   "outputs": [],
   "source": [
    "\"\"\"Uncomment out the code below to export the data to an excel file\n",
    "    The file will be saved in your current working directory\"\"\"\n",
    "\n",
    "#FF_final_data.to_excel('FFModel.xlsx')"
   ]
  }
 ]
}